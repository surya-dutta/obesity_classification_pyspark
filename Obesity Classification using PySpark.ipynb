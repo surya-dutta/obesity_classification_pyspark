{
 "cells": [
  {
   "cell_type": "code",
   "execution_count": 0,
   "metadata": {
    "application/vnd.databricks.v1+cell": {
     "cellMetadata": {
      "byteLimit": 2048000,
      "rowLimit": 10000
     },
     "inputWidgets": {},
     "nuid": "f8c1462a-bec5-429d-a95d-456fabdc3bb0",
     "showTitle": false,
     "title": ""
    }
   },
   "outputs": [],
   "source": [
    "import pyspark\n",
    "from pyspark.sql import SparkSession\n",
    "from pyspark.ml.feature import StringIndexer\n",
    "from pyspark.ml.feature import VectorAssembler\n",
    "from pyspark.ml.classification import RandomForestClassifier\n",
    "from pyspark.ml.evaluation import MulticlassClassificationEvaluator\n",
    "from pyspark.ml.tuning import CrossValidator, ParamGridBuilder"
   ]
  },
  {
   "cell_type": "code",
   "execution_count": 0,
   "metadata": {
    "application/vnd.databricks.v1+cell": {
     "cellMetadata": {
      "byteLimit": 2048000,
      "rowLimit": 10000
     },
     "inputWidgets": {},
     "nuid": "a92d859f-10bc-4113-87f1-e077d0aaa7b8",
     "showTitle": false,
     "title": ""
    }
   },
   "outputs": [],
   "source": [
    "# Create a spark session\n",
    "spark = SparkSession.builder.appName('classification').getOrCreate()"
   ]
  },
  {
   "cell_type": "code",
   "execution_count": 0,
   "metadata": {
    "application/vnd.databricks.v1+cell": {
     "cellMetadata": {
      "byteLimit": 2048000,
      "rowLimit": 10000
     },
     "inputWidgets": {},
     "nuid": "d8a16678-063b-4807-983e-7c9001f4a384",
     "showTitle": false,
     "title": ""
    }
   },
   "outputs": [],
   "source": [
    "# File location and type\n",
    "file_location = \"/FileStore/tables/ObesityDataSet.csv\"\n",
    "file_type = \"csv\"\n",
    "\n",
    "# Load data\n",
    "df = spark.read.csv(file_location, header=True, inferSchema=True)"
   ]
  },
  {
   "cell_type": "code",
   "execution_count": 0,
   "metadata": {
    "application/vnd.databricks.v1+cell": {
     "cellMetadata": {
      "byteLimit": 2048000,
      "rowLimit": 10000
     },
     "inputWidgets": {},
     "nuid": "b6051cae-5743-441c-b6de-7bdec1ad65c7",
     "showTitle": false,
     "title": ""
    }
   },
   "outputs": [
    {
     "output_type": "stream",
     "name": "stdout",
     "output_type": "stream",
     "text": [
      "+------+----+------+------+------------------------------+----+----+---+----------+-----+----+---+---+---+----------+--------------------+-------------------+\n|Gender| Age|Height|Weight|family_history_with_overweight|FAVC|FCVC|NCP|      CAEC|SMOKE|CH2O|SCC|FAF|TUE|      CALC|              MTRANS|         NObeyesdad|\n+------+----+------+------+------------------------------+----+----+---+----------+-----+----+---+---+---+----------+--------------------+-------------------+\n|Female|21.0|  1.62|  64.0|                           yes|  no| 2.0|3.0| Sometimes|   no| 2.0| no|0.0|1.0|        no|Public_Transporta...|      Normal_Weight|\n|Female|21.0|  1.52|  56.0|                           yes|  no| 3.0|3.0| Sometimes|  yes| 3.0|yes|3.0|0.0| Sometimes|Public_Transporta...|      Normal_Weight|\n|  Male|23.0|   1.8|  77.0|                           yes|  no| 2.0|3.0| Sometimes|   no| 2.0| no|2.0|1.0|Frequently|Public_Transporta...|      Normal_Weight|\n|  Male|27.0|   1.8|  87.0|                            no|  no| 3.0|3.0| Sometimes|   no| 2.0| no|2.0|0.0|Frequently|             Walking| Overweight_Level_I|\n|  Male|22.0|  1.78|  89.8|                            no|  no| 2.0|1.0| Sometimes|   no| 2.0| no|0.0|0.0| Sometimes|Public_Transporta...|Overweight_Level_II|\n|  Male|29.0|  1.62|  53.0|                            no| yes| 2.0|3.0| Sometimes|   no| 2.0| no|0.0|0.0| Sometimes|          Automobile|      Normal_Weight|\n|Female|23.0|   1.5|  55.0|                           yes| yes| 3.0|3.0| Sometimes|   no| 2.0| no|1.0|0.0| Sometimes|           Motorbike|      Normal_Weight|\n|  Male|22.0|  1.64|  53.0|                            no|  no| 2.0|3.0| Sometimes|   no| 2.0| no|3.0|0.0| Sometimes|Public_Transporta...|      Normal_Weight|\n|  Male|24.0|  1.78|  64.0|                           yes| yes| 3.0|3.0| Sometimes|   no| 2.0| no|1.0|1.0|Frequently|Public_Transporta...|      Normal_Weight|\n|  Male|22.0|  1.72|  68.0|                           yes| yes| 2.0|3.0| Sometimes|   no| 2.0| no|1.0|1.0|        no|Public_Transporta...|      Normal_Weight|\n|  Male|26.0|  1.85| 105.0|                           yes| yes| 3.0|3.0|Frequently|   no| 3.0| no|2.0|2.0| Sometimes|Public_Transporta...|     Obesity_Type_I|\n|Female|21.0|  1.72|  80.0|                           yes| yes| 2.0|3.0|Frequently|   no| 2.0|yes|2.0|1.0| Sometimes|Public_Transporta...|Overweight_Level_II|\n|  Male|22.0|  1.65|  56.0|                            no|  no| 3.0|3.0| Sometimes|   no| 3.0| no|2.0|0.0| Sometimes|Public_Transporta...|      Normal_Weight|\n|  Male|41.0|   1.8|  99.0|                            no| yes| 2.0|3.0| Sometimes|   no| 2.0| no|2.0|1.0|Frequently|          Automobile|     Obesity_Type_I|\n|  Male|23.0|  1.77|  60.0|                           yes| yes| 3.0|1.0| Sometimes|   no| 1.0| no|1.0|1.0| Sometimes|Public_Transporta...|      Normal_Weight|\n|Female|22.0|   1.7|  66.0|                           yes|  no| 3.0|3.0|    Always|   no| 2.0|yes|2.0|1.0| Sometimes|Public_Transporta...|      Normal_Weight|\n|  Male|27.0|  1.93| 102.0|                           yes| yes| 2.0|1.0| Sometimes|   no| 1.0| no|1.0|0.0| Sometimes|Public_Transporta...|Overweight_Level_II|\n|Female|29.0|  1.53|  78.0|                            no| yes| 2.0|1.0| Sometimes|   no| 2.0| no|0.0|0.0|        no|          Automobile|     Obesity_Type_I|\n|Female|30.0|  1.71|  82.0|                           yes| yes| 3.0|4.0|Frequently|  yes| 1.0| no|0.0|0.0|        no|          Automobile|Overweight_Level_II|\n|Female|23.0|  1.65|  70.0|                           yes|  no| 2.0|1.0| Sometimes|   no| 2.0| no|0.0|0.0| Sometimes|Public_Transporta...| Overweight_Level_I|\n+------+----+------+------+------------------------------+----+----+---+----------+-----+----+---+---+---+----------+--------------------+-------------------+\nonly showing top 20 rows\n\n"
     ]
    }
   ],
   "source": [
    "# Display data\n",
    "df.show()"
   ]
  },
  {
   "cell_type": "code",
   "execution_count": 0,
   "metadata": {
    "application/vnd.databricks.v1+cell": {
     "cellMetadata": {
      "byteLimit": 2048000,
      "rowLimit": 10000
     },
     "inputWidgets": {},
     "nuid": "2126c1f0-4cfb-4eea-8783-e745c3e9c288",
     "showTitle": false,
     "title": ""
    }
   },
   "outputs": [
    {
     "output_type": "stream",
     "name": "stdout",
     "output_type": "stream",
     "text": [
      "+------+---+------+------+------------------------------+----+----+---+----+-----+----+---+---+---+----+------+----------+\n|Gender|Age|Height|Weight|family_history_with_overweight|FAVC|FCVC|NCP|CAEC|SMOKE|CH2O|SCC|FAF|TUE|CALC|MTRANS|NObeyesdad|\n+------+---+------+------+------------------------------+----+----+---+----+-----+----+---+---+---+----+------+----------+\n|     0|  0|     0|     0|                             0|   0|   0|  0|   0|    0|   0|  0|  0|  0|   0|     0|         0|\n+------+---+------+------+------------------------------+----+----+---+----+-----+----+---+---+---+----+------+----------+\n\n"
     ]
    }
   ],
   "source": [
    "# Check for null values\n",
    "from pyspark.sql.functions import when, col, count, isnan\n",
    "df.select([count(when(isnan(c) | col(c).isNull(), c)).alias(c) for c in df.columns]).show()"
   ]
  },
  {
   "cell_type": "code",
   "execution_count": 0,
   "metadata": {
    "application/vnd.databricks.v1+cell": {
     "cellMetadata": {
      "byteLimit": 2048000,
      "rowLimit": 10000
     },
     "inputWidgets": {},
     "nuid": "b840f590-4cdc-4e52-9ffa-62a453287443",
     "showTitle": false,
     "title": ""
    }
   },
   "outputs": [
    {
     "output_type": "stream",
     "name": "stdout",
     "output_type": "stream",
     "text": [
      "root\n |-- Gender: string (nullable = true)\n |-- Age: double (nullable = true)\n |-- Height: double (nullable = true)\n |-- Weight: double (nullable = true)\n |-- family_history_with_overweight: string (nullable = true)\n |-- FAVC: string (nullable = true)\n |-- FCVC: double (nullable = true)\n |-- NCP: double (nullable = true)\n |-- CAEC: string (nullable = true)\n |-- SMOKE: string (nullable = true)\n |-- CH2O: double (nullable = true)\n |-- SCC: string (nullable = true)\n |-- FAF: double (nullable = true)\n |-- TUE: double (nullable = true)\n |-- CALC: string (nullable = true)\n |-- MTRANS: string (nullable = true)\n |-- NObeyesdad: string (nullable = true)\n\n"
     ]
    }
   ],
   "source": [
    "# Get datatypes of columns to divide cols into categorical and continuous values\n",
    "df.printSchema()"
   ]
  },
  {
   "cell_type": "code",
   "execution_count": 0,
   "metadata": {
    "application/vnd.databricks.v1+cell": {
     "cellMetadata": {
      "byteLimit": 2048000,
      "rowLimit": 10000
     },
     "inputWidgets": {},
     "nuid": "4cef6e91-0471-438b-a75d-351cc1c6e468",
     "showTitle": false,
     "title": ""
    }
   },
   "outputs": [],
   "source": [
    "# Divide the data into categorical and continous columns\n",
    "categoricalCols = [item[0] for item in df.dtypes if item[1].startswith('string')]\n",
    "continuousCols = [i for i in df.columns if i not in categoricalCols]\n"
   ]
  },
  {
   "cell_type": "code",
   "execution_count": 0,
   "metadata": {
    "application/vnd.databricks.v1+cell": {
     "cellMetadata": {
      "byteLimit": 2048000,
      "rowLimit": 10000
     },
     "inputWidgets": {},
     "nuid": "c12e05c7-b613-4b42-8913-18b622cb2e13",
     "showTitle": false,
     "title": ""
    }
   },
   "outputs": [],
   "source": [
    "# Categorical to numerical - Encoding\n",
    "indexer = StringIndexer(inputCols = categoricalCols, \n",
    "                        outputCols = [f\"{i}_idx\" for i in categoricalCols])\n",
    "df_idx = indexer.fit(df).transform(df)"
   ]
  },
  {
   "cell_type": "code",
   "execution_count": 0,
   "metadata": {
    "application/vnd.databricks.v1+cell": {
     "cellMetadata": {
      "byteLimit": 2048000,
      "rowLimit": 10000
     },
     "inputWidgets": {},
     "nuid": "278e8b2e-998b-4b9d-8816-12646cebdb11",
     "showTitle": false,
     "title": ""
    }
   },
   "outputs": [
    {
     "output_type": "stream",
     "name": "stdout",
     "output_type": "stream",
     "text": [
      "+------+----+------+------+------------------------------+----+----+---+----------+-----+----+---+---+---+----------+--------------------+-------------------+----------+----------------------------------+--------+--------+---------+-------+--------+----------+--------------+\n|Gender| Age|Height|Weight|family_history_with_overweight|FAVC|FCVC|NCP|      CAEC|SMOKE|CH2O|SCC|FAF|TUE|      CALC|              MTRANS|         NObeyesdad|Gender_idx|family_history_with_overweight_idx|FAVC_idx|CAEC_idx|SMOKE_idx|SCC_idx|CALC_idx|MTRANS_idx|NObeyesdad_idx|\n+------+----+------+------+------------------------------+----+----+---+----------+-----+----+---+---+---+----------+--------------------+-------------------+----------+----------------------------------+--------+--------+---------+-------+--------+----------+--------------+\n|Female|21.0|  1.62|  64.0|                           yes|  no| 2.0|3.0| Sometimes|   no| 2.0| no|0.0|1.0|        no|Public_Transporta...|      Normal_Weight|       1.0|                               0.0|     1.0|     0.0|      0.0|    0.0|     1.0|       0.0|           5.0|\n|Female|21.0|  1.52|  56.0|                           yes|  no| 3.0|3.0| Sometimes|  yes| 3.0|yes|3.0|0.0| Sometimes|Public_Transporta...|      Normal_Weight|       1.0|                               0.0|     1.0|     0.0|      1.0|    1.0|     0.0|       0.0|           5.0|\n|  Male|23.0|   1.8|  77.0|                           yes|  no| 2.0|3.0| Sometimes|   no| 2.0| no|2.0|1.0|Frequently|Public_Transporta...|      Normal_Weight|       0.0|                               0.0|     1.0|     0.0|      0.0|    0.0|     2.0|       0.0|           5.0|\n|  Male|27.0|   1.8|  87.0|                            no|  no| 3.0|3.0| Sometimes|   no| 2.0| no|2.0|0.0|Frequently|             Walking| Overweight_Level_I|       0.0|                               1.0|     1.0|     0.0|      0.0|    0.0|     2.0|       2.0|           3.0|\n|  Male|22.0|  1.78|  89.8|                            no|  no| 2.0|1.0| Sometimes|   no| 2.0| no|0.0|0.0| Sometimes|Public_Transporta...|Overweight_Level_II|       0.0|                               1.0|     1.0|     0.0|      0.0|    0.0|     0.0|       0.0|           4.0|\n|  Male|29.0|  1.62|  53.0|                            no| yes| 2.0|3.0| Sometimes|   no| 2.0| no|0.0|0.0| Sometimes|          Automobile|      Normal_Weight|       0.0|                               1.0|     0.0|     0.0|      0.0|    0.0|     0.0|       1.0|           5.0|\n|Female|23.0|   1.5|  55.0|                           yes| yes| 3.0|3.0| Sometimes|   no| 2.0| no|1.0|0.0| Sometimes|           Motorbike|      Normal_Weight|       1.0|                               0.0|     0.0|     0.0|      0.0|    0.0|     0.0|       3.0|           5.0|\n|  Male|22.0|  1.64|  53.0|                            no|  no| 2.0|3.0| Sometimes|   no| 2.0| no|3.0|0.0| Sometimes|Public_Transporta...|      Normal_Weight|       0.0|                               1.0|     1.0|     0.0|      0.0|    0.0|     0.0|       0.0|           5.0|\n|  Male|24.0|  1.78|  64.0|                           yes| yes| 3.0|3.0| Sometimes|   no| 2.0| no|1.0|1.0|Frequently|Public_Transporta...|      Normal_Weight|       0.0|                               0.0|     0.0|     0.0|      0.0|    0.0|     2.0|       0.0|           5.0|\n|  Male|22.0|  1.72|  68.0|                           yes| yes| 2.0|3.0| Sometimes|   no| 2.0| no|1.0|1.0|        no|Public_Transporta...|      Normal_Weight|       0.0|                               0.0|     0.0|     0.0|      0.0|    0.0|     1.0|       0.0|           5.0|\n|  Male|26.0|  1.85| 105.0|                           yes| yes| 3.0|3.0|Frequently|   no| 3.0| no|2.0|2.0| Sometimes|Public_Transporta...|     Obesity_Type_I|       0.0|                               0.0|     0.0|     1.0|      0.0|    0.0|     0.0|       0.0|           0.0|\n|Female|21.0|  1.72|  80.0|                           yes| yes| 2.0|3.0|Frequently|   no| 2.0|yes|2.0|1.0| Sometimes|Public_Transporta...|Overweight_Level_II|       1.0|                               0.0|     0.0|     1.0|      0.0|    1.0|     0.0|       0.0|           4.0|\n|  Male|22.0|  1.65|  56.0|                            no|  no| 3.0|3.0| Sometimes|   no| 3.0| no|2.0|0.0| Sometimes|Public_Transporta...|      Normal_Weight|       0.0|                               1.0|     1.0|     0.0|      0.0|    0.0|     0.0|       0.0|           5.0|\n|  Male|41.0|   1.8|  99.0|                            no| yes| 2.0|3.0| Sometimes|   no| 2.0| no|2.0|1.0|Frequently|          Automobile|     Obesity_Type_I|       0.0|                               1.0|     0.0|     0.0|      0.0|    0.0|     2.0|       1.0|           0.0|\n|  Male|23.0|  1.77|  60.0|                           yes| yes| 3.0|1.0| Sometimes|   no| 1.0| no|1.0|1.0| Sometimes|Public_Transporta...|      Normal_Weight|       0.0|                               0.0|     0.0|     0.0|      0.0|    0.0|     0.0|       0.0|           5.0|\n|Female|22.0|   1.7|  66.0|                           yes|  no| 3.0|3.0|    Always|   no| 2.0|yes|2.0|1.0| Sometimes|Public_Transporta...|      Normal_Weight|       1.0|                               0.0|     1.0|     2.0|      0.0|    1.0|     0.0|       0.0|           5.0|\n|  Male|27.0|  1.93| 102.0|                           yes| yes| 2.0|1.0| Sometimes|   no| 1.0| no|1.0|0.0| Sometimes|Public_Transporta...|Overweight_Level_II|       0.0|                               0.0|     0.0|     0.0|      0.0|    0.0|     0.0|       0.0|           4.0|\n|Female|29.0|  1.53|  78.0|                            no| yes| 2.0|1.0| Sometimes|   no| 2.0| no|0.0|0.0|        no|          Automobile|     Obesity_Type_I|       1.0|                               1.0|     0.0|     0.0|      0.0|    0.0|     1.0|       1.0|           0.0|\n|Female|30.0|  1.71|  82.0|                           yes| yes| 3.0|4.0|Frequently|  yes| 1.0| no|0.0|0.0|        no|          Automobile|Overweight_Level_II|       1.0|                               0.0|     0.0|     1.0|      1.0|    0.0|     1.0|       1.0|           4.0|\n|Female|23.0|  1.65|  70.0|                           yes|  no| 2.0|1.0| Sometimes|   no| 2.0| no|0.0|0.0| Sometimes|Public_Transporta...| Overweight_Level_I|       1.0|                               0.0|     1.0|     0.0|      0.0|    0.0|     0.0|       0.0|           3.0|\n+------+----+------+------+------------------------------+----+----+---+----------+-----+----+---+---+---+----------+--------------------+-------------------+----------+----------------------------------+--------+--------+---------+-------+--------+----------+--------------+\nonly showing top 20 rows\n\n"
     ]
    }
   ],
   "source": [
    "df_idx.show()"
   ]
  },
  {
   "cell_type": "code",
   "execution_count": 0,
   "metadata": {
    "application/vnd.databricks.v1+cell": {
     "cellMetadata": {
      "byteLimit": 2048000,
      "rowLimit": 10000
     },
     "inputWidgets": {},
     "nuid": "13fa2532-89b3-4805-af45-0c0f0e69c303",
     "showTitle": false,
     "title": ""
    }
   },
   "outputs": [
    {
     "output_type": "stream",
     "name": "stdout",
     "output_type": "stream",
     "text": [
      "+----------+-----+\n|Gender_idx|count|\n+----------+-----+\n|       0.0| 1068|\n|       1.0| 1043|\n+----------+-----+\n\n+----------------------------------+-----+\n|family_history_with_overweight_idx|count|\n+----------------------------------+-----+\n|                               0.0| 1726|\n|                               1.0|  385|\n+----------------------------------+-----+\n\n+--------+-----+\n|FAVC_idx|count|\n+--------+-----+\n|     0.0| 1866|\n|     1.0|  245|\n+--------+-----+\n\n+--------+-----+\n|CAEC_idx|count|\n+--------+-----+\n|     0.0| 1765|\n|     1.0|  242|\n|     3.0|   51|\n|     2.0|   53|\n+--------+-----+\n\n+---------+-----+\n|SMOKE_idx|count|\n+---------+-----+\n|      0.0| 2067|\n|      1.0|   44|\n+---------+-----+\n\n+-------+-----+\n|SCC_idx|count|\n+-------+-----+\n|    0.0| 2015|\n|    1.0|   96|\n+-------+-----+\n\n+--------+-----+\n|CALC_idx|count|\n+--------+-----+\n|     0.0| 1401|\n|     1.0|  639|\n|     3.0|    1|\n|     2.0|   70|\n+--------+-----+\n\n+----------+-----+\n|MTRANS_idx|count|\n+----------+-----+\n|       0.0| 1580|\n|       1.0|  457|\n|       4.0|    7|\n|       3.0|   11|\n|       2.0|   56|\n+----------+-----+\n\n+--------------+-----+\n|NObeyesdad_idx|count|\n+--------------+-----+\n|           0.0|  351|\n|           1.0|  324|\n|           4.0|  290|\n|           3.0|  290|\n|           2.0|  297|\n|           6.0|  272|\n|           5.0|  287|\n+--------------+-----+\n\n"
     ]
    }
   ],
   "source": [
    "# Display the value counts of each categorical columns\n",
    "for i in [i for i in df_idx.columns if '_idx' in i]:\n",
    "    df_idx.groupBy(i).count().show()"
   ]
  },
  {
   "cell_type": "code",
   "execution_count": 0,
   "metadata": {
    "application/vnd.databricks.v1+cell": {
     "cellMetadata": {
      "byteLimit": 2048000,
      "rowLimit": 10000
     },
     "inputWidgets": {},
     "nuid": "ef48db23-eba0-4b6a-9abe-229d16dc55d2",
     "showTitle": false,
     "title": ""
    }
   },
   "outputs": [],
   "source": [
    "# Assemble all independent features into one vector\n",
    "featuresAssembler = VectorAssembler(inputCols = ['Age',\n",
    "                            'Height',\n",
    "                            'Weight',\n",
    "                            'FCVC',\n",
    "                            'NCP',\n",
    "                            'CH2O',\n",
    "                            'FAF',\n",
    "                            'TUE',\n",
    "                            'Gender_idx',\n",
    "                            'family_history_with_overweight_idx',\n",
    "                            'FAVC_idx',\n",
    "                            'CAEC_idx',\n",
    "                            'SMOKE_idx',\n",
    "                            'SCC_idx',\n",
    "                            'CALC_idx',\n",
    "                            'MTRANS_idx'],\n",
    "                outputCol = \"Independent_Variables\")\n",
    "features = featuresAssembler.transform(df_idx)"
   ]
  },
  {
   "cell_type": "code",
   "execution_count": 0,
   "metadata": {
    "application/vnd.databricks.v1+cell": {
     "cellMetadata": {
      "byteLimit": 2048000,
      "rowLimit": 10000
     },
     "inputWidgets": {},
     "nuid": "44da092b-13b2-4517-8230-246642c2b753",
     "showTitle": false,
     "title": ""
    }
   },
   "outputs": [
    {
     "output_type": "stream",
     "name": "stdout",
     "output_type": "stream",
     "text": [
      "+------+----+------+------+------------------------------+----+----+---+----------+-----+----+---+---+---+----------+--------------------+-------------------+----------+----------------------------------+--------+--------+---------+-------+--------+----------+--------------+---------------------+\n|Gender| Age|Height|Weight|family_history_with_overweight|FAVC|FCVC|NCP|      CAEC|SMOKE|CH2O|SCC|FAF|TUE|      CALC|              MTRANS|         NObeyesdad|Gender_idx|family_history_with_overweight_idx|FAVC_idx|CAEC_idx|SMOKE_idx|SCC_idx|CALC_idx|MTRANS_idx|NObeyesdad_idx|Independent_Variables|\n+------+----+------+------+------------------------------+----+----+---+----------+-----+----+---+---+---+----------+--------------------+-------------------+----------+----------------------------------+--------+--------+---------+-------+--------+----------+--------------+---------------------+\n|Female|21.0|  1.62|  64.0|                           yes|  no| 2.0|3.0| Sometimes|   no| 2.0| no|0.0|1.0|        no|Public_Transporta...|      Normal_Weight|       1.0|                               0.0|     1.0|     0.0|      0.0|    0.0|     1.0|       0.0|           5.0| [21.0,1.62,64.0,2...|\n|Female|21.0|  1.52|  56.0|                           yes|  no| 3.0|3.0| Sometimes|  yes| 3.0|yes|3.0|0.0| Sometimes|Public_Transporta...|      Normal_Weight|       1.0|                               0.0|     1.0|     0.0|      1.0|    1.0|     0.0|       0.0|           5.0| [21.0,1.52,56.0,3...|\n|  Male|23.0|   1.8|  77.0|                           yes|  no| 2.0|3.0| Sometimes|   no| 2.0| no|2.0|1.0|Frequently|Public_Transporta...|      Normal_Weight|       0.0|                               0.0|     1.0|     0.0|      0.0|    0.0|     2.0|       0.0|           5.0| [23.0,1.8,77.0,2....|\n|  Male|27.0|   1.8|  87.0|                            no|  no| 3.0|3.0| Sometimes|   no| 2.0| no|2.0|0.0|Frequently|             Walking| Overweight_Level_I|       0.0|                               1.0|     1.0|     0.0|      0.0|    0.0|     2.0|       2.0|           3.0| [27.0,1.8,87.0,3....|\n|  Male|22.0|  1.78|  89.8|                            no|  no| 2.0|1.0| Sometimes|   no| 2.0| no|0.0|0.0| Sometimes|Public_Transporta...|Overweight_Level_II|       0.0|                               1.0|     1.0|     0.0|      0.0|    0.0|     0.0|       0.0|           4.0| (16,[0,1,2,3,4,5,...|\n|  Male|29.0|  1.62|  53.0|                            no| yes| 2.0|3.0| Sometimes|   no| 2.0| no|0.0|0.0| Sometimes|          Automobile|      Normal_Weight|       0.0|                               1.0|     0.0|     0.0|      0.0|    0.0|     0.0|       1.0|           5.0| (16,[0,1,2,3,4,5,...|\n|Female|23.0|   1.5|  55.0|                           yes| yes| 3.0|3.0| Sometimes|   no| 2.0| no|1.0|0.0| Sometimes|           Motorbike|      Normal_Weight|       1.0|                               0.0|     0.0|     0.0|      0.0|    0.0|     0.0|       3.0|           5.0| (16,[0,1,2,3,4,5,...|\n|  Male|22.0|  1.64|  53.0|                            no|  no| 2.0|3.0| Sometimes|   no| 2.0| no|3.0|0.0| Sometimes|Public_Transporta...|      Normal_Weight|       0.0|                               1.0|     1.0|     0.0|      0.0|    0.0|     0.0|       0.0|           5.0| (16,[0,1,2,3,4,5,...|\n|  Male|24.0|  1.78|  64.0|                           yes| yes| 3.0|3.0| Sometimes|   no| 2.0| no|1.0|1.0|Frequently|Public_Transporta...|      Normal_Weight|       0.0|                               0.0|     0.0|     0.0|      0.0|    0.0|     2.0|       0.0|           5.0| (16,[0,1,2,3,4,5,...|\n|  Male|22.0|  1.72|  68.0|                           yes| yes| 2.0|3.0| Sometimes|   no| 2.0| no|1.0|1.0|        no|Public_Transporta...|      Normal_Weight|       0.0|                               0.0|     0.0|     0.0|      0.0|    0.0|     1.0|       0.0|           5.0| (16,[0,1,2,3,4,5,...|\n|  Male|26.0|  1.85| 105.0|                           yes| yes| 3.0|3.0|Frequently|   no| 3.0| no|2.0|2.0| Sometimes|Public_Transporta...|     Obesity_Type_I|       0.0|                               0.0|     0.0|     1.0|      0.0|    0.0|     0.0|       0.0|           0.0| (16,[0,1,2,3,4,5,...|\n|Female|21.0|  1.72|  80.0|                           yes| yes| 2.0|3.0|Frequently|   no| 2.0|yes|2.0|1.0| Sometimes|Public_Transporta...|Overweight_Level_II|       1.0|                               0.0|     0.0|     1.0|      0.0|    1.0|     0.0|       0.0|           4.0| [21.0,1.72,80.0,2...|\n|  Male|22.0|  1.65|  56.0|                            no|  no| 3.0|3.0| Sometimes|   no| 3.0| no|2.0|0.0| Sometimes|Public_Transporta...|      Normal_Weight|       0.0|                               1.0|     1.0|     0.0|      0.0|    0.0|     0.0|       0.0|           5.0| (16,[0,1,2,3,4,5,...|\n|  Male|41.0|   1.8|  99.0|                            no| yes| 2.0|3.0| Sometimes|   no| 2.0| no|2.0|1.0|Frequently|          Automobile|     Obesity_Type_I|       0.0|                               1.0|     0.0|     0.0|      0.0|    0.0|     2.0|       1.0|           0.0| [41.0,1.8,99.0,2....|\n|  Male|23.0|  1.77|  60.0|                           yes| yes| 3.0|1.0| Sometimes|   no| 1.0| no|1.0|1.0| Sometimes|Public_Transporta...|      Normal_Weight|       0.0|                               0.0|     0.0|     0.0|      0.0|    0.0|     0.0|       0.0|           5.0| (16,[0,1,2,3,4,5,...|\n|Female|22.0|   1.7|  66.0|                           yes|  no| 3.0|3.0|    Always|   no| 2.0|yes|2.0|1.0| Sometimes|Public_Transporta...|      Normal_Weight|       1.0|                               0.0|     1.0|     2.0|      0.0|    1.0|     0.0|       0.0|           5.0| [22.0,1.7,66.0,3....|\n|  Male|27.0|  1.93| 102.0|                           yes| yes| 2.0|1.0| Sometimes|   no| 1.0| no|1.0|0.0| Sometimes|Public_Transporta...|Overweight_Level_II|       0.0|                               0.0|     0.0|     0.0|      0.0|    0.0|     0.0|       0.0|           4.0| (16,[0,1,2,3,4,5,...|\n|Female|29.0|  1.53|  78.0|                            no| yes| 2.0|1.0| Sometimes|   no| 2.0| no|0.0|0.0|        no|          Automobile|     Obesity_Type_I|       1.0|                               1.0|     0.0|     0.0|      0.0|    0.0|     1.0|       1.0|           0.0| [29.0,1.53,78.0,2...|\n|Female|30.0|  1.71|  82.0|                           yes| yes| 3.0|4.0|Frequently|  yes| 1.0| no|0.0|0.0|        no|          Automobile|Overweight_Level_II|       1.0|                               0.0|     0.0|     1.0|      1.0|    0.0|     1.0|       1.0|           4.0| [30.0,1.71,82.0,3...|\n|Female|23.0|  1.65|  70.0|                           yes|  no| 2.0|1.0| Sometimes|   no| 2.0| no|0.0|0.0| Sometimes|Public_Transporta...| Overweight_Level_I|       1.0|                               0.0|     1.0|     0.0|      0.0|    0.0|     0.0|       0.0|           3.0| (16,[0,1,2,3,4,5,...|\n+------+----+------+------+------------------------------+----+----+---+----------+-----+----+---+---+---+----------+--------------------+-------------------+----------+----------------------------------+--------+--------+---------+-------+--------+----------+--------------+---------------------+\nonly showing top 20 rows\n\n"
     ]
    }
   ],
   "source": [
    "features.show()"
   ]
  },
  {
   "cell_type": "code",
   "execution_count": 0,
   "metadata": {
    "application/vnd.databricks.v1+cell": {
     "cellMetadata": {
      "byteLimit": 2048000,
      "rowLimit": 10000
     },
     "inputWidgets": {},
     "nuid": "5633af29-c83a-413e-bb0e-361f883162a8",
     "showTitle": false,
     "title": ""
    }
   },
   "outputs": [
    {
     "output_type": "stream",
     "name": "stdout",
     "output_type": "stream",
     "text": [
      "+---------------------+--------------+\n|Independent_variables|NObeyesdad_idx|\n+---------------------+--------------+\n| [21.0,1.62,64.0,2...|           5.0|\n| [21.0,1.52,56.0,3...|           5.0|\n| [23.0,1.8,77.0,2....|           5.0|\n| [27.0,1.8,87.0,3....|           3.0|\n| (16,[0,1,2,3,4,5,...|           4.0|\n| (16,[0,1,2,3,4,5,...|           5.0|\n| (16,[0,1,2,3,4,5,...|           5.0|\n| (16,[0,1,2,3,4,5,...|           5.0|\n| (16,[0,1,2,3,4,5,...|           5.0|\n| (16,[0,1,2,3,4,5,...|           5.0|\n| (16,[0,1,2,3,4,5,...|           0.0|\n| [21.0,1.72,80.0,2...|           4.0|\n| (16,[0,1,2,3,4,5,...|           5.0|\n| [41.0,1.8,99.0,2....|           0.0|\n| (16,[0,1,2,3,4,5,...|           5.0|\n| [22.0,1.7,66.0,3....|           5.0|\n| (16,[0,1,2,3,4,5,...|           4.0|\n| [29.0,1.53,78.0,2...|           0.0|\n| [30.0,1.71,82.0,3...|           4.0|\n| (16,[0,1,2,3,4,5,...|           3.0|\n+---------------------+--------------+\nonly showing top 20 rows\n\n"
     ]
    }
   ],
   "source": [
    "finalData = features.select([\"Independent_variables\", \"NObeyesdad_idx\"])\n",
    "finalData.show()"
   ]
  },
  {
   "cell_type": "code",
   "execution_count": 0,
   "metadata": {
    "application/vnd.databricks.v1+cell": {
     "cellMetadata": {
      "byteLimit": 2048000,
      "rowLimit": 10000
     },
     "inputWidgets": {},
     "nuid": "7c6016ff-452c-483a-abd2-9c8749963f06",
     "showTitle": false,
     "title": ""
    }
   },
   "outputs": [],
   "source": [
    "# Split the data into train and test\n",
    "\n",
    "train_data, test_data = finalData.randomSplit([0.7, 0.3], seed=42)"
   ]
  },
  {
   "cell_type": "code",
   "execution_count": 0,
   "metadata": {
    "application/vnd.databricks.v1+cell": {
     "cellMetadata": {
      "byteLimit": 2048000,
      "rowLimit": 10000
     },
     "inputWidgets": {},
     "nuid": "42ef0a1f-3b75-442c-877a-89725314e56e",
     "showTitle": false,
     "title": ""
    }
   },
   "outputs": [],
   "source": [
    "# Initialize Random forest classifier\n",
    "rf = RandomForestClassifier(labelCol=\"NObeyesdad_idx\", featuresCol=\"Independent_variables\")"
   ]
  },
  {
   "cell_type": "code",
   "execution_count": 0,
   "metadata": {
    "application/vnd.databricks.v1+cell": {
     "cellMetadata": {
      "byteLimit": 2048000,
      "rowLimit": 10000
     },
     "inputWidgets": {},
     "nuid": "4f19a3c7-1b28-4daa-9789-59238d07f8d4",
     "showTitle": false,
     "title": ""
    }
   },
   "outputs": [],
   "source": [
    "# Define the hyperparameter grid\n",
    "paramGrid = ParamGridBuilder() \\\n",
    "    .addGrid(rf.numTrees, [10, 20, 30]) \\\n",
    "    .addGrid(rf.maxDepth, [5, 10, 15]) \\\n",
    "    .build()\n",
    "\n",
    "# Create the cross-validator\n",
    "cross_validator = CrossValidator(estimator=rf,\n",
    "                          estimatorParamMaps=paramGrid,\n",
    "                          evaluator=MulticlassClassificationEvaluator(labelCol=\"NObeyesdad_idx\", metricName=\"accuracy\"),\n",
    "                          numFolds=5, seed=42)\n",
    "\n",
    "# Train the model with the best hyperparameters\n",
    "cv_model = cross_validator.fit(train_data)"
   ]
  },
  {
   "cell_type": "code",
   "execution_count": 0,
   "metadata": {
    "application/vnd.databricks.v1+cell": {
     "cellMetadata": {
      "byteLimit": 2048000,
      "rowLimit": 10000
     },
     "inputWidgets": {},
     "nuid": "56a9179f-73dc-4ae0-ba83-ee9b463c7836",
     "showTitle": false,
     "title": ""
    }
   },
   "outputs": [
    {
     "output_type": "stream",
     "name": "stdout",
     "output_type": "stream",
     "text": [
      "Feature Importances:\nAge: 0.0947\nHeight: 0.1081\nWeight: 0.3346\nFCVC: 0.0870\nNCP: 0.0523\nCH2O: 0.0419\nFAF: 0.0420\nTUE: 0.0450\nGender: 0.0566\nfamily_history_with_overweight: 0.0251\nFAVC: 0.0167\nCAEC: 0.0313\nSMOKE: 0.0021\nSCC: 0.0063\nCALC: 0.0313\nMTRANS: 0.0251\n"
     ]
    }
   ],
   "source": [
    "# Feature importance\n",
    "best_rf_model = cv_model.bestModel\n",
    "importances = best_rf_model.featureImportances\n",
    "feature_list = ['Age',\n",
    "                'Height',\n",
    "                'Weight',\n",
    "                'FCVC',\n",
    "                'NCP',\n",
    "                'CH2O',\n",
    "                'FAF',\n",
    "                'TUE',\n",
    "                'Gender',\n",
    "                'family_history_with_overweight',\n",
    "                'FAVC',\n",
    "                'CAEC',\n",
    "                'SMOKE',\n",
    "                'SCC',\n",
    "                'CALC',\n",
    "                'MTRANS']\n",
    "\n",
    "print(\"Feature Importances:\")\n",
    "for feature, importance in zip(feature_list, importances):\n",
    "    print(f\"{feature}: {importance:.4f}\")"
   ]
  },
  {
   "cell_type": "code",
   "execution_count": 0,
   "metadata": {
    "application/vnd.databricks.v1+cell": {
     "cellMetadata": {
      "byteLimit": 2048000,
      "rowLimit": 10000
     },
     "inputWidgets": {},
     "nuid": "0ba1f490-a89a-4e71-9716-c03c69311b3b",
     "showTitle": false,
     "title": ""
    }
   },
   "outputs": [
    {
     "output_type": "stream",
     "name": "stdout",
     "output_type": "stream",
     "text": [
      "Test set accuracy = 0.95\n"
     ]
    }
   ],
   "source": [
    "# Make predictions on the test data\n",
    "predictions = cv_model.transform(test_data)\n",
    "\n",
    "evaluator = MulticlassClassificationEvaluator(labelCol=\"NObeyesdad_idx\", metricName=\"accuracy\")\n",
    "\n",
    "# Evaluate the model\n",
    "accuracy = evaluator.evaluate(predictions)\n",
    "print(\"Test set accuracy = {:.2f}\".format(accuracy))"
   ]
  },
  {
   "cell_type": "code",
   "execution_count": 0,
   "metadata": {
    "application/vnd.databricks.v1+cell": {
     "cellMetadata": {
      "byteLimit": 2048000,
      "rowLimit": 10000
     },
     "inputWidgets": {},
     "nuid": "0a50a5c0-3826-47fb-9548-0de4f17b32c4",
     "showTitle": false,
     "title": ""
    }
   },
   "outputs": [],
   "source": [
    "# create a feature important scores dataframe for visualization\n",
    "\n",
    "feature_imp_map = {feature_list[i]: round(importances[i], 4) for i in range(len(feature_list))}\n",
    "feature_map = [(k,)+(float(v),) for k,v in feature_imp_map.items()]\n",
    "feature_df = spark.createDataFrame(feature_map, schema=['Features', 'FeatureImpScores'])\n"
   ]
  },
  {
   "cell_type": "code",
   "execution_count": 0,
   "metadata": {
    "application/vnd.databricks.v1+cell": {
     "cellMetadata": {
      "byteLimit": 2048000,
      "rowLimit": 10000
     },
     "inputWidgets": {},
     "nuid": "a66bc421-5cf8-4223-bc36-a80878d44363",
     "showTitle": false,
     "title": ""
    }
   },
   "outputs": [
    {
     "output_type": "display_data",
     "data": {
      "text/html": [
       "<html>\n",
       "<head><meta charset=\"utf-8\" /></head>\n",
       "<body>\n",
       "    <div>            <script src=\"https://cdnjs.cloudflare.com/ajax/libs/mathjax/2.7.5/MathJax.js?config=TeX-AMS-MML_SVG\"></script><script type=\"text/javascript\">if (window.MathJax) {MathJax.Hub.Config({SVG: {font: \"STIX-Web\"}});}</script>                <script type=\"text/javascript\">window.PlotlyConfig = {MathJaxConfig: 'local'};</script>\n",
       "        <script src=\"https://cdn.plot.ly/plotly-2.9.0.min.js\"></script>                <div id=\"7e75d05b-4fd1-480d-be9d-e9bb3fbd5e8c\" class=\"plotly-graph-div\" style=\"height:100%; width:100%;\"></div>            <script type=\"text/javascript\">                                    window.PLOTLYENV=window.PLOTLYENV || {};                                    if (document.getElementById(\"7e75d05b-4fd1-480d-be9d-e9bb3fbd5e8c\")) {                    Plotly.newPlot(                        \"7e75d05b-4fd1-480d-be9d-e9bb3fbd5e8c\",                        [{\"alignmentgroup\":\"True\",\"hovertemplate\":\"Features=%{x}<br>FeatureImpScores=%{y}<extra></extra>\",\"legendgroup\":\"Age\",\"marker\":{\"color\":\"#636efa\",\"pattern\":{\"shape\":\"\"}},\"name\":\"Age\",\"offsetgroup\":\"Age\",\"orientation\":\"v\",\"showlegend\":true,\"textposition\":\"auto\",\"x\":[\"Age\"],\"xaxis\":\"x\",\"y\":[0.0947],\"yaxis\":\"y\",\"type\":\"bar\"},{\"alignmentgroup\":\"True\",\"hovertemplate\":\"Features=%{x}<br>FeatureImpScores=%{y}<extra></extra>\",\"legendgroup\":\"Height\",\"marker\":{\"color\":\"#EF553B\",\"pattern\":{\"shape\":\"\"}},\"name\":\"Height\",\"offsetgroup\":\"Height\",\"orientation\":\"v\",\"showlegend\":true,\"textposition\":\"auto\",\"x\":[\"Height\"],\"xaxis\":\"x\",\"y\":[0.1081],\"yaxis\":\"y\",\"type\":\"bar\"},{\"alignmentgroup\":\"True\",\"hovertemplate\":\"Features=%{x}<br>FeatureImpScores=%{y}<extra></extra>\",\"legendgroup\":\"Weight\",\"marker\":{\"color\":\"#00cc96\",\"pattern\":{\"shape\":\"\"}},\"name\":\"Weight\",\"offsetgroup\":\"Weight\",\"orientation\":\"v\",\"showlegend\":true,\"textposition\":\"auto\",\"x\":[\"Weight\"],\"xaxis\":\"x\",\"y\":[0.3346],\"yaxis\":\"y\",\"type\":\"bar\"},{\"alignmentgroup\":\"True\",\"hovertemplate\":\"Features=%{x}<br>FeatureImpScores=%{y}<extra></extra>\",\"legendgroup\":\"FCVC\",\"marker\":{\"color\":\"#ab63fa\",\"pattern\":{\"shape\":\"\"}},\"name\":\"FCVC\",\"offsetgroup\":\"FCVC\",\"orientation\":\"v\",\"showlegend\":true,\"textposition\":\"auto\",\"x\":[\"FCVC\"],\"xaxis\":\"x\",\"y\":[0.087],\"yaxis\":\"y\",\"type\":\"bar\"},{\"alignmentgroup\":\"True\",\"hovertemplate\":\"Features=%{x}<br>FeatureImpScores=%{y}<extra></extra>\",\"legendgroup\":\"NCP\",\"marker\":{\"color\":\"#FFA15A\",\"pattern\":{\"shape\":\"\"}},\"name\":\"NCP\",\"offsetgroup\":\"NCP\",\"orientation\":\"v\",\"showlegend\":true,\"textposition\":\"auto\",\"x\":[\"NCP\"],\"xaxis\":\"x\",\"y\":[0.0523],\"yaxis\":\"y\",\"type\":\"bar\"},{\"alignmentgroup\":\"True\",\"hovertemplate\":\"Features=%{x}<br>FeatureImpScores=%{y}<extra></extra>\",\"legendgroup\":\"CH2O\",\"marker\":{\"color\":\"#19d3f3\",\"pattern\":{\"shape\":\"\"}},\"name\":\"CH2O\",\"offsetgroup\":\"CH2O\",\"orientation\":\"v\",\"showlegend\":true,\"textposition\":\"auto\",\"x\":[\"CH2O\"],\"xaxis\":\"x\",\"y\":[0.0419],\"yaxis\":\"y\",\"type\":\"bar\"},{\"alignmentgroup\":\"True\",\"hovertemplate\":\"Features=%{x}<br>FeatureImpScores=%{y}<extra></extra>\",\"legendgroup\":\"FAF\",\"marker\":{\"color\":\"#FF6692\",\"pattern\":{\"shape\":\"\"}},\"name\":\"FAF\",\"offsetgroup\":\"FAF\",\"orientation\":\"v\",\"showlegend\":true,\"textposition\":\"auto\",\"x\":[\"FAF\"],\"xaxis\":\"x\",\"y\":[0.042],\"yaxis\":\"y\",\"type\":\"bar\"},{\"alignmentgroup\":\"True\",\"hovertemplate\":\"Features=%{x}<br>FeatureImpScores=%{y}<extra></extra>\",\"legendgroup\":\"TUE\",\"marker\":{\"color\":\"#B6E880\",\"pattern\":{\"shape\":\"\"}},\"name\":\"TUE\",\"offsetgroup\":\"TUE\",\"orientation\":\"v\",\"showlegend\":true,\"textposition\":\"auto\",\"x\":[\"TUE\"],\"xaxis\":\"x\",\"y\":[0.045],\"yaxis\":\"y\",\"type\":\"bar\"},{\"alignmentgroup\":\"True\",\"hovertemplate\":\"Features=%{x}<br>FeatureImpScores=%{y}<extra></extra>\",\"legendgroup\":\"Gender\",\"marker\":{\"color\":\"#FF97FF\",\"pattern\":{\"shape\":\"\"}},\"name\":\"Gender\",\"offsetgroup\":\"Gender\",\"orientation\":\"v\",\"showlegend\":true,\"textposition\":\"auto\",\"x\":[\"Gender\"],\"xaxis\":\"x\",\"y\":[0.0566],\"yaxis\":\"y\",\"type\":\"bar\"},{\"alignmentgroup\":\"True\",\"hovertemplate\":\"Features=%{x}<br>FeatureImpScores=%{y}<extra></extra>\",\"legendgroup\":\"family_history_with_overweight\",\"marker\":{\"color\":\"#FECB52\",\"pattern\":{\"shape\":\"\"}},\"name\":\"family_history_with_overweight\",\"offsetgroup\":\"family_history_with_overweight\",\"orientation\":\"v\",\"showlegend\":true,\"textposition\":\"auto\",\"x\":[\"family_history_with_overweight\"],\"xaxis\":\"x\",\"y\":[0.0251],\"yaxis\":\"y\",\"type\":\"bar\"},{\"alignmentgroup\":\"True\",\"hovertemplate\":\"Features=%{x}<br>FeatureImpScores=%{y}<extra></extra>\",\"legendgroup\":\"FAVC\",\"marker\":{\"color\":\"#636efa\",\"pattern\":{\"shape\":\"\"}},\"name\":\"FAVC\",\"offsetgroup\":\"FAVC\",\"orientation\":\"v\",\"showlegend\":true,\"textposition\":\"auto\",\"x\":[\"FAVC\"],\"xaxis\":\"x\",\"y\":[0.0167],\"yaxis\":\"y\",\"type\":\"bar\"},{\"alignmentgroup\":\"True\",\"hovertemplate\":\"Features=%{x}<br>FeatureImpScores=%{y}<extra></extra>\",\"legendgroup\":\"CAEC\",\"marker\":{\"color\":\"#EF553B\",\"pattern\":{\"shape\":\"\"}},\"name\":\"CAEC\",\"offsetgroup\":\"CAEC\",\"orientation\":\"v\",\"showlegend\":true,\"textposition\":\"auto\",\"x\":[\"CAEC\"],\"xaxis\":\"x\",\"y\":[0.0313],\"yaxis\":\"y\",\"type\":\"bar\"},{\"alignmentgroup\":\"True\",\"hovertemplate\":\"Features=%{x}<br>FeatureImpScores=%{y}<extra></extra>\",\"legendgroup\":\"SMOKE\",\"marker\":{\"color\":\"#00cc96\",\"pattern\":{\"shape\":\"\"}},\"name\":\"SMOKE\",\"offsetgroup\":\"SMOKE\",\"orientation\":\"v\",\"showlegend\":true,\"textposition\":\"auto\",\"x\":[\"SMOKE\"],\"xaxis\":\"x\",\"y\":[0.0021],\"yaxis\":\"y\",\"type\":\"bar\"},{\"alignmentgroup\":\"True\",\"hovertemplate\":\"Features=%{x}<br>FeatureImpScores=%{y}<extra></extra>\",\"legendgroup\":\"SCC\",\"marker\":{\"color\":\"#ab63fa\",\"pattern\":{\"shape\":\"\"}},\"name\":\"SCC\",\"offsetgroup\":\"SCC\",\"orientation\":\"v\",\"showlegend\":true,\"textposition\":\"auto\",\"x\":[\"SCC\"],\"xaxis\":\"x\",\"y\":[0.0063],\"yaxis\":\"y\",\"type\":\"bar\"},{\"alignmentgroup\":\"True\",\"hovertemplate\":\"Features=%{x}<br>FeatureImpScores=%{y}<extra></extra>\",\"legendgroup\":\"CALC\",\"marker\":{\"color\":\"#FFA15A\",\"pattern\":{\"shape\":\"\"}},\"name\":\"CALC\",\"offsetgroup\":\"CALC\",\"orientation\":\"v\",\"showlegend\":true,\"textposition\":\"auto\",\"x\":[\"CALC\"],\"xaxis\":\"x\",\"y\":[0.0313],\"yaxis\":\"y\",\"type\":\"bar\"},{\"alignmentgroup\":\"True\",\"hovertemplate\":\"Features=%{x}<br>FeatureImpScores=%{y}<extra></extra>\",\"legendgroup\":\"MTRANS\",\"marker\":{\"color\":\"#19d3f3\",\"pattern\":{\"shape\":\"\"}},\"name\":\"MTRANS\",\"offsetgroup\":\"MTRANS\",\"orientation\":\"v\",\"showlegend\":true,\"textposition\":\"auto\",\"x\":[\"MTRANS\"],\"xaxis\":\"x\",\"y\":[0.0251],\"yaxis\":\"y\",\"type\":\"bar\"}],                        {\"template\":{\"data\":{\"bar\":[{\"error_x\":{\"color\":\"#2a3f5f\"},\"error_y\":{\"color\":\"#2a3f5f\"},\"marker\":{\"line\":{\"color\":\"#E5ECF6\",\"width\":0.5},\"pattern\":{\"fillmode\":\"overlay\",\"size\":10,\"solidity\":0.2}},\"type\":\"bar\"}],\"barpolar\":[{\"marker\":{\"line\":{\"color\":\"#E5ECF6\",\"width\":0.5},\"pattern\":{\"fillmode\":\"overlay\",\"size\":10,\"solidity\":0.2}},\"type\":\"barpolar\"}],\"carpet\":[{\"aaxis\":{\"endlinecolor\":\"#2a3f5f\",\"gridcolor\":\"white\",\"linecolor\":\"white\",\"minorgridcolor\":\"white\",\"startlinecolor\":\"#2a3f5f\"},\"baxis\":{\"endlinecolor\":\"#2a3f5f\",\"gridcolor\":\"white\",\"linecolor\":\"white\",\"minorgridcolor\":\"white\",\"startlinecolor\":\"#2a3f5f\"},\"type\":\"carpet\"}],\"choropleth\":[{\"colorbar\":{\"outlinewidth\":0,\"ticks\":\"\"},\"type\":\"choropleth\"}],\"contour\":[{\"colorbar\":{\"outlinewidth\":0,\"ticks\":\"\"},\"colorscale\":[[0.0,\"#0d0887\"],[0.1111111111111111,\"#46039f\"],[0.2222222222222222,\"#7201a8\"],[0.3333333333333333,\"#9c179e\"],[0.4444444444444444,\"#bd3786\"],[0.5555555555555556,\"#d8576b\"],[0.6666666666666666,\"#ed7953\"],[0.7777777777777778,\"#fb9f3a\"],[0.8888888888888888,\"#fdca26\"],[1.0,\"#f0f921\"]],\"type\":\"contour\"}],\"contourcarpet\":[{\"colorbar\":{\"outlinewidth\":0,\"ticks\":\"\"},\"type\":\"contourcarpet\"}],\"heatmap\":[{\"colorbar\":{\"outlinewidth\":0,\"ticks\":\"\"},\"colorscale\":[[0.0,\"#0d0887\"],[0.1111111111111111,\"#46039f\"],[0.2222222222222222,\"#7201a8\"],[0.3333333333333333,\"#9c179e\"],[0.4444444444444444,\"#bd3786\"],[0.5555555555555556,\"#d8576b\"],[0.6666666666666666,\"#ed7953\"],[0.7777777777777778,\"#fb9f3a\"],[0.8888888888888888,\"#fdca26\"],[1.0,\"#f0f921\"]],\"type\":\"heatmap\"}],\"heatmapgl\":[{\"colorbar\":{\"outlinewidth\":0,\"ticks\":\"\"},\"colorscale\":[[0.0,\"#0d0887\"],[0.1111111111111111,\"#46039f\"],[0.2222222222222222,\"#7201a8\"],[0.3333333333333333,\"#9c179e\"],[0.4444444444444444,\"#bd3786\"],[0.5555555555555556,\"#d8576b\"],[0.6666666666666666,\"#ed7953\"],[0.7777777777777778,\"#fb9f3a\"],[0.8888888888888888,\"#fdca26\"],[1.0,\"#f0f921\"]],\"type\":\"heatmapgl\"}],\"histogram\":[{\"marker\":{\"pattern\":{\"fillmode\":\"overlay\",\"size\":10,\"solidity\":0.2}},\"type\":\"histogram\"}],\"histogram2d\":[{\"colorbar\":{\"outlinewidth\":0,\"ticks\":\"\"},\"colorscale\":[[0.0,\"#0d0887\"],[0.1111111111111111,\"#46039f\"],[0.2222222222222222,\"#7201a8\"],[0.3333333333333333,\"#9c179e\"],[0.4444444444444444,\"#bd3786\"],[0.5555555555555556,\"#d8576b\"],[0.6666666666666666,\"#ed7953\"],[0.7777777777777778,\"#fb9f3a\"],[0.8888888888888888,\"#fdca26\"],[1.0,\"#f0f921\"]],\"type\":\"histogram2d\"}],\"histogram2dcontour\":[{\"colorbar\":{\"outlinewidth\":0,\"ticks\":\"\"},\"colorscale\":[[0.0,\"#0d0887\"],[0.1111111111111111,\"#46039f\"],[0.2222222222222222,\"#7201a8\"],[0.3333333333333333,\"#9c179e\"],[0.4444444444444444,\"#bd3786\"],[0.5555555555555556,\"#d8576b\"],[0.6666666666666666,\"#ed7953\"],[0.7777777777777778,\"#fb9f3a\"],[0.8888888888888888,\"#fdca26\"],[1.0,\"#f0f921\"]],\"type\":\"histogram2dcontour\"}],\"mesh3d\":[{\"colorbar\":{\"outlinewidth\":0,\"ticks\":\"\"},\"type\":\"mesh3d\"}],\"parcoords\":[{\"line\":{\"colorbar\":{\"outlinewidth\":0,\"ticks\":\"\"}},\"type\":\"parcoords\"}],\"pie\":[{\"automargin\":true,\"type\":\"pie\"}],\"scatter\":[{\"marker\":{\"colorbar\":{\"outlinewidth\":0,\"ticks\":\"\"}},\"type\":\"scatter\"}],\"scatter3d\":[{\"line\":{\"colorbar\":{\"outlinewidth\":0,\"ticks\":\"\"}},\"marker\":{\"colorbar\":{\"outlinewidth\":0,\"ticks\":\"\"}},\"type\":\"scatter3d\"}],\"scattercarpet\":[{\"marker\":{\"colorbar\":{\"outlinewidth\":0,\"ticks\":\"\"}},\"type\":\"scattercarpet\"}],\"scattergeo\":[{\"marker\":{\"colorbar\":{\"outlinewidth\":0,\"ticks\":\"\"}},\"type\":\"scattergeo\"}],\"scattergl\":[{\"marker\":{\"colorbar\":{\"outlinewidth\":0,\"ticks\":\"\"}},\"type\":\"scattergl\"}],\"scattermapbox\":[{\"marker\":{\"colorbar\":{\"outlinewidth\":0,\"ticks\":\"\"}},\"type\":\"scattermapbox\"}],\"scatterpolar\":[{\"marker\":{\"colorbar\":{\"outlinewidth\":0,\"ticks\":\"\"}},\"type\":\"scatterpolar\"}],\"scatterpolargl\":[{\"marker\":{\"colorbar\":{\"outlinewidth\":0,\"ticks\":\"\"}},\"type\":\"scatterpolargl\"}],\"scatterternary\":[{\"marker\":{\"colorbar\":{\"outlinewidth\":0,\"ticks\":\"\"}},\"type\":\"scatterternary\"}],\"surface\":[{\"colorbar\":{\"outlinewidth\":0,\"ticks\":\"\"},\"colorscale\":[[0.0,\"#0d0887\"],[0.1111111111111111,\"#46039f\"],[0.2222222222222222,\"#7201a8\"],[0.3333333333333333,\"#9c179e\"],[0.4444444444444444,\"#bd3786\"],[0.5555555555555556,\"#d8576b\"],[0.6666666666666666,\"#ed7953\"],[0.7777777777777778,\"#fb9f3a\"],[0.8888888888888888,\"#fdca26\"],[1.0,\"#f0f921\"]],\"type\":\"surface\"}],\"table\":[{\"cells\":{\"fill\":{\"color\":\"#EBF0F8\"},\"line\":{\"color\":\"white\"}},\"header\":{\"fill\":{\"color\":\"#C8D4E3\"},\"line\":{\"color\":\"white\"}},\"type\":\"table\"}]},\"layout\":{\"annotationdefaults\":{\"arrowcolor\":\"#2a3f5f\",\"arrowhead\":0,\"arrowwidth\":1},\"autotypenumbers\":\"strict\",\"coloraxis\":{\"colorbar\":{\"outlinewidth\":0,\"ticks\":\"\"}},\"colorscale\":{\"diverging\":[[0,\"#8e0152\"],[0.1,\"#c51b7d\"],[0.2,\"#de77ae\"],[0.3,\"#f1b6da\"],[0.4,\"#fde0ef\"],[0.5,\"#f7f7f7\"],[0.6,\"#e6f5d0\"],[0.7,\"#b8e186\"],[0.8,\"#7fbc41\"],[0.9,\"#4d9221\"],[1,\"#276419\"]],\"sequential\":[[0.0,\"#0d0887\"],[0.1111111111111111,\"#46039f\"],[0.2222222222222222,\"#7201a8\"],[0.3333333333333333,\"#9c179e\"],[0.4444444444444444,\"#bd3786\"],[0.5555555555555556,\"#d8576b\"],[0.6666666666666666,\"#ed7953\"],[0.7777777777777778,\"#fb9f3a\"],[0.8888888888888888,\"#fdca26\"],[1.0,\"#f0f921\"]],\"sequentialminus\":[[0.0,\"#0d0887\"],[0.1111111111111111,\"#46039f\"],[0.2222222222222222,\"#7201a8\"],[0.3333333333333333,\"#9c179e\"],[0.4444444444444444,\"#bd3786\"],[0.5555555555555556,\"#d8576b\"],[0.6666666666666666,\"#ed7953\"],[0.7777777777777778,\"#fb9f3a\"],[0.8888888888888888,\"#fdca26\"],[1.0,\"#f0f921\"]]},\"colorway\":[\"#636efa\",\"#EF553B\",\"#00cc96\",\"#ab63fa\",\"#FFA15A\",\"#19d3f3\",\"#FF6692\",\"#B6E880\",\"#FF97FF\",\"#FECB52\"],\"font\":{\"color\":\"#2a3f5f\"},\"geo\":{\"bgcolor\":\"white\",\"lakecolor\":\"white\",\"landcolor\":\"#E5ECF6\",\"showlakes\":true,\"showland\":true,\"subunitcolor\":\"white\"},\"hoverlabel\":{\"align\":\"left\"},\"hovermode\":\"closest\",\"mapbox\":{\"style\":\"light\"},\"paper_bgcolor\":\"white\",\"plot_bgcolor\":\"#E5ECF6\",\"polar\":{\"angularaxis\":{\"gridcolor\":\"white\",\"linecolor\":\"white\",\"ticks\":\"\"},\"bgcolor\":\"#E5ECF6\",\"radialaxis\":{\"gridcolor\":\"white\",\"linecolor\":\"white\",\"ticks\":\"\"}},\"scene\":{\"xaxis\":{\"backgroundcolor\":\"#E5ECF6\",\"gridcolor\":\"white\",\"gridwidth\":2,\"linecolor\":\"white\",\"showbackground\":true,\"ticks\":\"\",\"zerolinecolor\":\"white\"},\"yaxis\":{\"backgroundcolor\":\"#E5ECF6\",\"gridcolor\":\"white\",\"gridwidth\":2,\"linecolor\":\"white\",\"showbackground\":true,\"ticks\":\"\",\"zerolinecolor\":\"white\"},\"zaxis\":{\"backgroundcolor\":\"#E5ECF6\",\"gridcolor\":\"white\",\"gridwidth\":2,\"linecolor\":\"white\",\"showbackground\":true,\"ticks\":\"\",\"zerolinecolor\":\"white\"}},\"shapedefaults\":{\"line\":{\"color\":\"#2a3f5f\"}},\"ternary\":{\"aaxis\":{\"gridcolor\":\"white\",\"linecolor\":\"white\",\"ticks\":\"\"},\"baxis\":{\"gridcolor\":\"white\",\"linecolor\":\"white\",\"ticks\":\"\"},\"bgcolor\":\"#E5ECF6\",\"caxis\":{\"gridcolor\":\"white\",\"linecolor\":\"white\",\"ticks\":\"\"}},\"title\":{\"x\":0.05},\"xaxis\":{\"automargin\":true,\"gridcolor\":\"white\",\"linecolor\":\"white\",\"ticks\":\"\",\"title\":{\"standoff\":15},\"zerolinecolor\":\"white\",\"zerolinewidth\":2},\"yaxis\":{\"automargin\":true,\"gridcolor\":\"white\",\"linecolor\":\"white\",\"ticks\":\"\",\"title\":{\"standoff\":15},\"zerolinecolor\":\"white\",\"zerolinewidth\":2}}},\"xaxis\":{\"anchor\":\"y\",\"domain\":[0.0,1.0],\"title\":{\"text\":\"Features\"},\"categoryorder\":\"array\",\"categoryarray\":[\"Age\",\"Height\",\"Weight\",\"FCVC\",\"NCP\",\"CH2O\",\"FAF\",\"TUE\",\"Gender\",\"family_history_with_overweight\",\"FAVC\",\"CAEC\",\"SMOKE\",\"SCC\",\"CALC\",\"MTRANS\"]},\"yaxis\":{\"anchor\":\"x\",\"domain\":[0.0,1.0],\"title\":{\"text\":\"FeatureImpScores\"}},\"legend\":{\"title\":{\"text\":\"Features\"},\"tracegroupgap\":0},\"title\":{\"text\":\"Feature Importance\"},\"barmode\":\"relative\"},                        {\"responsive\": true}                    )                };                            </script>        </div>\n",
       "</body>\n",
       "</html>"
      ]
     },
     "metadata": {
      "application/vnd.databricks.v1+output": {
       "addedWidgets": {},
       "arguments": {},
       "data": "<html>\n<head><meta charset=\"utf-8\" /></head>\n<body>\n    <div>            <script src=\"https://cdnjs.cloudflare.com/ajax/libs/mathjax/2.7.5/MathJax.js?config=TeX-AMS-MML_SVG\"></script><script type=\"text/javascript\">if (window.MathJax) {MathJax.Hub.Config({SVG: {font: \"STIX-Web\"}});}</script>                <script type=\"text/javascript\">window.PlotlyConfig = {MathJaxConfig: 'local'};</script>\n        <script src=\"https://cdn.plot.ly/plotly-2.9.0.min.js\"></script>                <div id=\"7e75d05b-4fd1-480d-be9d-e9bb3fbd5e8c\" class=\"plotly-graph-div\" style=\"height:100%; width:100%;\"></div>            <script type=\"text/javascript\">                                    window.PLOTLYENV=window.PLOTLYENV || {};                                    if (document.getElementById(\"7e75d05b-4fd1-480d-be9d-e9bb3fbd5e8c\")) {                    Plotly.newPlot(                        \"7e75d05b-4fd1-480d-be9d-e9bb3fbd5e8c\",                        [{\"alignmentgroup\":\"True\",\"hovertemplate\":\"Features=%{x}<br>FeatureImpScores=%{y}<extra></extra>\",\"legendgroup\":\"Age\",\"marker\":{\"color\":\"#636efa\",\"pattern\":{\"shape\":\"\"}},\"name\":\"Age\",\"offsetgroup\":\"Age\",\"orientation\":\"v\",\"showlegend\":true,\"textposition\":\"auto\",\"x\":[\"Age\"],\"xaxis\":\"x\",\"y\":[0.0947],\"yaxis\":\"y\",\"type\":\"bar\"},{\"alignmentgroup\":\"True\",\"hovertemplate\":\"Features=%{x}<br>FeatureImpScores=%{y}<extra></extra>\",\"legendgroup\":\"Height\",\"marker\":{\"color\":\"#EF553B\",\"pattern\":{\"shape\":\"\"}},\"name\":\"Height\",\"offsetgroup\":\"Height\",\"orientation\":\"v\",\"showlegend\":true,\"textposition\":\"auto\",\"x\":[\"Height\"],\"xaxis\":\"x\",\"y\":[0.1081],\"yaxis\":\"y\",\"type\":\"bar\"},{\"alignmentgroup\":\"True\",\"hovertemplate\":\"Features=%{x}<br>FeatureImpScores=%{y}<extra></extra>\",\"legendgroup\":\"Weight\",\"marker\":{\"color\":\"#00cc96\",\"pattern\":{\"shape\":\"\"}},\"name\":\"Weight\",\"offsetgroup\":\"Weight\",\"orientation\":\"v\",\"showlegend\":true,\"textposition\":\"auto\",\"x\":[\"Weight\"],\"xaxis\":\"x\",\"y\":[0.3346],\"yaxis\":\"y\",\"type\":\"bar\"},{\"alignmentgroup\":\"True\",\"hovertemplate\":\"Features=%{x}<br>FeatureImpScores=%{y}<extra></extra>\",\"legendgroup\":\"FCVC\",\"marker\":{\"color\":\"#ab63fa\",\"pattern\":{\"shape\":\"\"}},\"name\":\"FCVC\",\"offsetgroup\":\"FCVC\",\"orientation\":\"v\",\"showlegend\":true,\"textposition\":\"auto\",\"x\":[\"FCVC\"],\"xaxis\":\"x\",\"y\":[0.087],\"yaxis\":\"y\",\"type\":\"bar\"},{\"alignmentgroup\":\"True\",\"hovertemplate\":\"Features=%{x}<br>FeatureImpScores=%{y}<extra></extra>\",\"legendgroup\":\"NCP\",\"marker\":{\"color\":\"#FFA15A\",\"pattern\":{\"shape\":\"\"}},\"name\":\"NCP\",\"offsetgroup\":\"NCP\",\"orientation\":\"v\",\"showlegend\":true,\"textposition\":\"auto\",\"x\":[\"NCP\"],\"xaxis\":\"x\",\"y\":[0.0523],\"yaxis\":\"y\",\"type\":\"bar\"},{\"alignmentgroup\":\"True\",\"hovertemplate\":\"Features=%{x}<br>FeatureImpScores=%{y}<extra></extra>\",\"legendgroup\":\"CH2O\",\"marker\":{\"color\":\"#19d3f3\",\"pattern\":{\"shape\":\"\"}},\"name\":\"CH2O\",\"offsetgroup\":\"CH2O\",\"orientation\":\"v\",\"showlegend\":true,\"textposition\":\"auto\",\"x\":[\"CH2O\"],\"xaxis\":\"x\",\"y\":[0.0419],\"yaxis\":\"y\",\"type\":\"bar\"},{\"alignmentgroup\":\"True\",\"hovertemplate\":\"Features=%{x}<br>FeatureImpScores=%{y}<extra></extra>\",\"legendgroup\":\"FAF\",\"marker\":{\"color\":\"#FF6692\",\"pattern\":{\"shape\":\"\"}},\"name\":\"FAF\",\"offsetgroup\":\"FAF\",\"orientation\":\"v\",\"showlegend\":true,\"textposition\":\"auto\",\"x\":[\"FAF\"],\"xaxis\":\"x\",\"y\":[0.042],\"yaxis\":\"y\",\"type\":\"bar\"},{\"alignmentgroup\":\"True\",\"hovertemplate\":\"Features=%{x}<br>FeatureImpScores=%{y}<extra></extra>\",\"legendgroup\":\"TUE\",\"marker\":{\"color\":\"#B6E880\",\"pattern\":{\"shape\":\"\"}},\"name\":\"TUE\",\"offsetgroup\":\"TUE\",\"orientation\":\"v\",\"showlegend\":true,\"textposition\":\"auto\",\"x\":[\"TUE\"],\"xaxis\":\"x\",\"y\":[0.045],\"yaxis\":\"y\",\"type\":\"bar\"},{\"alignmentgroup\":\"True\",\"hovertemplate\":\"Features=%{x}<br>FeatureImpScores=%{y}<extra></extra>\",\"legendgroup\":\"Gender\",\"marker\":{\"color\":\"#FF97FF\",\"pattern\":{\"shape\":\"\"}},\"name\":\"Gender\",\"offsetgroup\":\"Gender\",\"orientation\":\"v\",\"showlegend\":true,\"textposition\":\"auto\",\"x\":[\"Gender\"],\"xaxis\":\"x\",\"y\":[0.0566],\"yaxis\":\"y\",\"type\":\"bar\"},{\"alignmentgroup\":\"True\",\"hovertemplate\":\"Features=%{x}<br>FeatureImpScores=%{y}<extra></extra>\",\"legendgroup\":\"family_history_with_overweight\",\"marker\":{\"color\":\"#FECB52\",\"pattern\":{\"shape\":\"\"}},\"name\":\"family_history_with_overweight\",\"offsetgroup\":\"family_history_with_overweight\",\"orientation\":\"v\",\"showlegend\":true,\"textposition\":\"auto\",\"x\":[\"family_history_with_overweight\"],\"xaxis\":\"x\",\"y\":[0.0251],\"yaxis\":\"y\",\"type\":\"bar\"},{\"alignmentgroup\":\"True\",\"hovertemplate\":\"Features=%{x}<br>FeatureImpScores=%{y}<extra></extra>\",\"legendgroup\":\"FAVC\",\"marker\":{\"color\":\"#636efa\",\"pattern\":{\"shape\":\"\"}},\"name\":\"FAVC\",\"offsetgroup\":\"FAVC\",\"orientation\":\"v\",\"showlegend\":true,\"textposition\":\"auto\",\"x\":[\"FAVC\"],\"xaxis\":\"x\",\"y\":[0.0167],\"yaxis\":\"y\",\"type\":\"bar\"},{\"alignmentgroup\":\"True\",\"hovertemplate\":\"Features=%{x}<br>FeatureImpScores=%{y}<extra></extra>\",\"legendgroup\":\"CAEC\",\"marker\":{\"color\":\"#EF553B\",\"pattern\":{\"shape\":\"\"}},\"name\":\"CAEC\",\"offsetgroup\":\"CAEC\",\"orientation\":\"v\",\"showlegend\":true,\"textposition\":\"auto\",\"x\":[\"CAEC\"],\"xaxis\":\"x\",\"y\":[0.0313],\"yaxis\":\"y\",\"type\":\"bar\"},{\"alignmentgroup\":\"True\",\"hovertemplate\":\"Features=%{x}<br>FeatureImpScores=%{y}<extra></extra>\",\"legendgroup\":\"SMOKE\",\"marker\":{\"color\":\"#00cc96\",\"pattern\":{\"shape\":\"\"}},\"name\":\"SMOKE\",\"offsetgroup\":\"SMOKE\",\"orientation\":\"v\",\"showlegend\":true,\"textposition\":\"auto\",\"x\":[\"SMOKE\"],\"xaxis\":\"x\",\"y\":[0.0021],\"yaxis\":\"y\",\"type\":\"bar\"},{\"alignmentgroup\":\"True\",\"hovertemplate\":\"Features=%{x}<br>FeatureImpScores=%{y}<extra></extra>\",\"legendgroup\":\"SCC\",\"marker\":{\"color\":\"#ab63fa\",\"pattern\":{\"shape\":\"\"}},\"name\":\"SCC\",\"offsetgroup\":\"SCC\",\"orientation\":\"v\",\"showlegend\":true,\"textposition\":\"auto\",\"x\":[\"SCC\"],\"xaxis\":\"x\",\"y\":[0.0063],\"yaxis\":\"y\",\"type\":\"bar\"},{\"alignmentgroup\":\"True\",\"hovertemplate\":\"Features=%{x}<br>FeatureImpScores=%{y}<extra></extra>\",\"legendgroup\":\"CALC\",\"marker\":{\"color\":\"#FFA15A\",\"pattern\":{\"shape\":\"\"}},\"name\":\"CALC\",\"offsetgroup\":\"CALC\",\"orientation\":\"v\",\"showlegend\":true,\"textposition\":\"auto\",\"x\":[\"CALC\"],\"xaxis\":\"x\",\"y\":[0.0313],\"yaxis\":\"y\",\"type\":\"bar\"},{\"alignmentgroup\":\"True\",\"hovertemplate\":\"Features=%{x}<br>FeatureImpScores=%{y}<extra></extra>\",\"legendgroup\":\"MTRANS\",\"marker\":{\"color\":\"#19d3f3\",\"pattern\":{\"shape\":\"\"}},\"name\":\"MTRANS\",\"offsetgroup\":\"MTRANS\",\"orientation\":\"v\",\"showlegend\":true,\"textposition\":\"auto\",\"x\":[\"MTRANS\"],\"xaxis\":\"x\",\"y\":[0.0251],\"yaxis\":\"y\",\"type\":\"bar\"}],                        {\"template\":{\"data\":{\"bar\":[{\"error_x\":{\"color\":\"#2a3f5f\"},\"error_y\":{\"color\":\"#2a3f5f\"},\"marker\":{\"line\":{\"color\":\"#E5ECF6\",\"width\":0.5},\"pattern\":{\"fillmode\":\"overlay\",\"size\":10,\"solidity\":0.2}},\"type\":\"bar\"}],\"barpolar\":[{\"marker\":{\"line\":{\"color\":\"#E5ECF6\",\"width\":0.5},\"pattern\":{\"fillmode\":\"overlay\",\"size\":10,\"solidity\":0.2}},\"type\":\"barpolar\"}],\"carpet\":[{\"aaxis\":{\"endlinecolor\":\"#2a3f5f\",\"gridcolor\":\"white\",\"linecolor\":\"white\",\"minorgridcolor\":\"white\",\"startlinecolor\":\"#2a3f5f\"},\"baxis\":{\"endlinecolor\":\"#2a3f5f\",\"gridcolor\":\"white\",\"linecolor\":\"white\",\"minorgridcolor\":\"white\",\"startlinecolor\":\"#2a3f5f\"},\"type\":\"carpet\"}],\"choropleth\":[{\"colorbar\":{\"outlinewidth\":0,\"ticks\":\"\"},\"type\":\"choropleth\"}],\"contour\":[{\"colorbar\":{\"outlinewidth\":0,\"ticks\":\"\"},\"colorscale\":[[0.0,\"#0d0887\"],[0.1111111111111111,\"#46039f\"],[0.2222222222222222,\"#7201a8\"],[0.3333333333333333,\"#9c179e\"],[0.4444444444444444,\"#bd3786\"],[0.5555555555555556,\"#d8576b\"],[0.6666666666666666,\"#ed7953\"],[0.7777777777777778,\"#fb9f3a\"],[0.8888888888888888,\"#fdca26\"],[1.0,\"#f0f921\"]],\"type\":\"contour\"}],\"contourcarpet\":[{\"colorbar\":{\"outlinewidth\":0,\"ticks\":\"\"},\"type\":\"contourcarpet\"}],\"heatmap\":[{\"colorbar\":{\"outlinewidth\":0,\"ticks\":\"\"},\"colorscale\":[[0.0,\"#0d0887\"],[0.1111111111111111,\"#46039f\"],[0.2222222222222222,\"#7201a8\"],[0.3333333333333333,\"#9c179e\"],[0.4444444444444444,\"#bd3786\"],[0.5555555555555556,\"#d8576b\"],[0.6666666666666666,\"#ed7953\"],[0.7777777777777778,\"#fb9f3a\"],[0.8888888888888888,\"#fdca26\"],[1.0,\"#f0f921\"]],\"type\":\"heatmap\"}],\"heatmapgl\":[{\"colorbar\":{\"outlinewidth\":0,\"ticks\":\"\"},\"colorscale\":[[0.0,\"#0d0887\"],[0.1111111111111111,\"#46039f\"],[0.2222222222222222,\"#7201a8\"],[0.3333333333333333,\"#9c179e\"],[0.4444444444444444,\"#bd3786\"],[0.5555555555555556,\"#d8576b\"],[0.6666666666666666,\"#ed7953\"],[0.7777777777777778,\"#fb9f3a\"],[0.8888888888888888,\"#fdca26\"],[1.0,\"#f0f921\"]],\"type\":\"heatmapgl\"}],\"histogram\":[{\"marker\":{\"pattern\":{\"fillmode\":\"overlay\",\"size\":10,\"solidity\":0.2}},\"type\":\"histogram\"}],\"histogram2d\":[{\"colorbar\":{\"outlinewidth\":0,\"ticks\":\"\"},\"colorscale\":[[0.0,\"#0d0887\"],[0.1111111111111111,\"#46039f\"],[0.2222222222222222,\"#7201a8\"],[0.3333333333333333,\"#9c179e\"],[0.4444444444444444,\"#bd3786\"],[0.5555555555555556,\"#d8576b\"],[0.6666666666666666,\"#ed7953\"],[0.7777777777777778,\"#fb9f3a\"],[0.8888888888888888,\"#fdca26\"],[1.0,\"#f0f921\"]],\"type\":\"histogram2d\"}],\"histogram2dcontour\":[{\"colorbar\":{\"outlinewidth\":0,\"ticks\":\"\"},\"colorscale\":[[0.0,\"#0d0887\"],[0.1111111111111111,\"#46039f\"],[0.2222222222222222,\"#7201a8\"],[0.3333333333333333,\"#9c179e\"],[0.4444444444444444,\"#bd3786\"],[0.5555555555555556,\"#d8576b\"],[0.6666666666666666,\"#ed7953\"],[0.7777777777777778,\"#fb9f3a\"],[0.8888888888888888,\"#fdca26\"],[1.0,\"#f0f921\"]],\"type\":\"histogram2dcontour\"}],\"mesh3d\":[{\"colorbar\":{\"outlinewidth\":0,\"ticks\":\"\"},\"type\":\"mesh3d\"}],\"parcoords\":[{\"line\":{\"colorbar\":{\"outlinewidth\":0,\"ticks\":\"\"}},\"type\":\"parcoords\"}],\"pie\":[{\"automargin\":true,\"type\":\"pie\"}],\"scatter\":[{\"marker\":{\"colorbar\":{\"outlinewidth\":0,\"ticks\":\"\"}},\"type\":\"scatter\"}],\"scatter3d\":[{\"line\":{\"colorbar\":{\"outlinewidth\":0,\"ticks\":\"\"}},\"marker\":{\"colorbar\":{\"outlinewidth\":0,\"ticks\":\"\"}},\"type\":\"scatter3d\"}],\"scattercarpet\":[{\"marker\":{\"colorbar\":{\"outlinewidth\":0,\"ticks\":\"\"}},\"type\":\"scattercarpet\"}],\"scattergeo\":[{\"marker\":{\"colorbar\":{\"outlinewidth\":0,\"ticks\":\"\"}},\"type\":\"scattergeo\"}],\"scattergl\":[{\"marker\":{\"colorbar\":{\"outlinewidth\":0,\"ticks\":\"\"}},\"type\":\"scattergl\"}],\"scattermapbox\":[{\"marker\":{\"colorbar\":{\"outlinewidth\":0,\"ticks\":\"\"}},\"type\":\"scattermapbox\"}],\"scatterpolar\":[{\"marker\":{\"colorbar\":{\"outlinewidth\":0,\"ticks\":\"\"}},\"type\":\"scatterpolar\"}],\"scatterpolargl\":[{\"marker\":{\"colorbar\":{\"outlinewidth\":0,\"ticks\":\"\"}},\"type\":\"scatterpolargl\"}],\"scatterternary\":[{\"marker\":{\"colorbar\":{\"outlinewidth\":0,\"ticks\":\"\"}},\"type\":\"scatterternary\"}],\"surface\":[{\"colorbar\":{\"outlinewidth\":0,\"ticks\":\"\"},\"colorscale\":[[0.0,\"#0d0887\"],[0.1111111111111111,\"#46039f\"],[0.2222222222222222,\"#7201a8\"],[0.3333333333333333,\"#9c179e\"],[0.4444444444444444,\"#bd3786\"],[0.5555555555555556,\"#d8576b\"],[0.6666666666666666,\"#ed7953\"],[0.7777777777777778,\"#fb9f3a\"],[0.8888888888888888,\"#fdca26\"],[1.0,\"#f0f921\"]],\"type\":\"surface\"}],\"table\":[{\"cells\":{\"fill\":{\"color\":\"#EBF0F8\"},\"line\":{\"color\":\"white\"}},\"header\":{\"fill\":{\"color\":\"#C8D4E3\"},\"line\":{\"color\":\"white\"}},\"type\":\"table\"}]},\"layout\":{\"annotationdefaults\":{\"arrowcolor\":\"#2a3f5f\",\"arrowhead\":0,\"arrowwidth\":1},\"autotypenumbers\":\"strict\",\"coloraxis\":{\"colorbar\":{\"outlinewidth\":0,\"ticks\":\"\"}},\"colorscale\":{\"diverging\":[[0,\"#8e0152\"],[0.1,\"#c51b7d\"],[0.2,\"#de77ae\"],[0.3,\"#f1b6da\"],[0.4,\"#fde0ef\"],[0.5,\"#f7f7f7\"],[0.6,\"#e6f5d0\"],[0.7,\"#b8e186\"],[0.8,\"#7fbc41\"],[0.9,\"#4d9221\"],[1,\"#276419\"]],\"sequential\":[[0.0,\"#0d0887\"],[0.1111111111111111,\"#46039f\"],[0.2222222222222222,\"#7201a8\"],[0.3333333333333333,\"#9c179e\"],[0.4444444444444444,\"#bd3786\"],[0.5555555555555556,\"#d8576b\"],[0.6666666666666666,\"#ed7953\"],[0.7777777777777778,\"#fb9f3a\"],[0.8888888888888888,\"#fdca26\"],[1.0,\"#f0f921\"]],\"sequentialminus\":[[0.0,\"#0d0887\"],[0.1111111111111111,\"#46039f\"],[0.2222222222222222,\"#7201a8\"],[0.3333333333333333,\"#9c179e\"],[0.4444444444444444,\"#bd3786\"],[0.5555555555555556,\"#d8576b\"],[0.6666666666666666,\"#ed7953\"],[0.7777777777777778,\"#fb9f3a\"],[0.8888888888888888,\"#fdca26\"],[1.0,\"#f0f921\"]]},\"colorway\":[\"#636efa\",\"#EF553B\",\"#00cc96\",\"#ab63fa\",\"#FFA15A\",\"#19d3f3\",\"#FF6692\",\"#B6E880\",\"#FF97FF\",\"#FECB52\"],\"font\":{\"color\":\"#2a3f5f\"},\"geo\":{\"bgcolor\":\"white\",\"lakecolor\":\"white\",\"landcolor\":\"#E5ECF6\",\"showlakes\":true,\"showland\":true,\"subunitcolor\":\"white\"},\"hoverlabel\":{\"align\":\"left\"},\"hovermode\":\"closest\",\"mapbox\":{\"style\":\"light\"},\"paper_bgcolor\":\"white\",\"plot_bgcolor\":\"#E5ECF6\",\"polar\":{\"angularaxis\":{\"gridcolor\":\"white\",\"linecolor\":\"white\",\"ticks\":\"\"},\"bgcolor\":\"#E5ECF6\",\"radialaxis\":{\"gridcolor\":\"white\",\"linecolor\":\"white\",\"ticks\":\"\"}},\"scene\":{\"xaxis\":{\"backgroundcolor\":\"#E5ECF6\",\"gridcolor\":\"white\",\"gridwidth\":2,\"linecolor\":\"white\",\"showbackground\":true,\"ticks\":\"\",\"zerolinecolor\":\"white\"},\"yaxis\":{\"backgroundcolor\":\"#E5ECF6\",\"gridcolor\":\"white\",\"gridwidth\":2,\"linecolor\":\"white\",\"showbackground\":true,\"ticks\":\"\",\"zerolinecolor\":\"white\"},\"zaxis\":{\"backgroundcolor\":\"#E5ECF6\",\"gridcolor\":\"white\",\"gridwidth\":2,\"linecolor\":\"white\",\"showbackground\":true,\"ticks\":\"\",\"zerolinecolor\":\"white\"}},\"shapedefaults\":{\"line\":{\"color\":\"#2a3f5f\"}},\"ternary\":{\"aaxis\":{\"gridcolor\":\"white\",\"linecolor\":\"white\",\"ticks\":\"\"},\"baxis\":{\"gridcolor\":\"white\",\"linecolor\":\"white\",\"ticks\":\"\"},\"bgcolor\":\"#E5ECF6\",\"caxis\":{\"gridcolor\":\"white\",\"linecolor\":\"white\",\"ticks\":\"\"}},\"title\":{\"x\":0.05},\"xaxis\":{\"automargin\":true,\"gridcolor\":\"white\",\"linecolor\":\"white\",\"ticks\":\"\",\"title\":{\"standoff\":15},\"zerolinecolor\":\"white\",\"zerolinewidth\":2},\"yaxis\":{\"automargin\":true,\"gridcolor\":\"white\",\"linecolor\":\"white\",\"ticks\":\"\",\"title\":{\"standoff\":15},\"zerolinecolor\":\"white\",\"zerolinewidth\":2}}},\"xaxis\":{\"anchor\":\"y\",\"domain\":[0.0,1.0],\"title\":{\"text\":\"Features\"},\"categoryorder\":\"array\",\"categoryarray\":[\"Age\",\"Height\",\"Weight\",\"FCVC\",\"NCP\",\"CH2O\",\"FAF\",\"TUE\",\"Gender\",\"family_history_with_overweight\",\"FAVC\",\"CAEC\",\"SMOKE\",\"SCC\",\"CALC\",\"MTRANS\"]},\"yaxis\":{\"anchor\":\"x\",\"domain\":[0.0,1.0],\"title\":{\"text\":\"FeatureImpScores\"}},\"legend\":{\"title\":{\"text\":\"Features\"},\"tracegroupgap\":0},\"title\":{\"text\":\"Feature Importance\"},\"barmode\":\"relative\"},                        {\"responsive\": true}                    )                };                            </script>        </div>\n</body>\n</html>",
       "datasetInfos": [],
       "metadata": {},
       "removedWidgets": [],
       "textData": null,
       "type": "htmlSandbox"
      }
     },
     "output_type": "display_data"
    }
   ],
   "source": [
    "import plotly.express as px\n",
    "\n",
    "pyfeature_df = feature_df.toPandas()\n",
    "x = pyfeature_df['Features']\n",
    "y = pyfeature_df['FeatureImpScores']\n",
    "\n",
    "fig = px.bar(pyfeature_df, x, y, color = x, title = \"Feature Importance\")\n",
    "fig.show()\n"
   ]
  },
  {
   "cell_type": "code",
   "execution_count": 0,
   "metadata": {
    "application/vnd.databricks.v1+cell": {
     "cellMetadata": {
      "byteLimit": 2048000,
      "rowLimit": 10000
     },
     "inputWidgets": {},
     "nuid": "fae3746e-8f26-4367-b781-fd27182c867d",
     "showTitle": false,
     "title": ""
    }
   },
   "outputs": [
    {
     "output_type": "display_data",
     "data": {
      "text/html": [
       "<div>\n",
       "<style scoped>\n",
       "    .dataframe tbody tr th:only-of-type {\n",
       "        vertical-align: middle;\n",
       "    }\n",
       "\n",
       "    .dataframe tbody tr th {\n",
       "        vertical-align: top;\n",
       "    }\n",
       "\n",
       "    .dataframe thead th {\n",
       "        text-align: right;\n",
       "    }\n",
       "</style>\n",
       "<table border=\"1\" class=\"dataframe\">\n",
       "  <thead>\n",
       "    <tr style=\"text-align: right;\">\n",
       "      <th></th>\n",
       "      <th>prediction_NObeyesdad_idx</th>\n",
       "      <th>0.0</th>\n",
       "      <th>1.0</th>\n",
       "      <th>2.0</th>\n",
       "      <th>3.0</th>\n",
       "      <th>4.0</th>\n",
       "      <th>5.0</th>\n",
       "      <th>6.0</th>\n",
       "    </tr>\n",
       "  </thead>\n",
       "  <tbody>\n",
       "    <tr>\n",
       "      <th>0</th>\n",
       "      <td>1.0</td>\n",
       "      <td>0</td>\n",
       "      <td>83</td>\n",
       "      <td>1</td>\n",
       "      <td>0</td>\n",
       "      <td>0</td>\n",
       "      <td>0</td>\n",
       "      <td>0</td>\n",
       "    </tr>\n",
       "    <tr>\n",
       "      <th>1</th>\n",
       "      <td>0.0</td>\n",
       "      <td>96</td>\n",
       "      <td>0</td>\n",
       "      <td>0</td>\n",
       "      <td>0</td>\n",
       "      <td>2</td>\n",
       "      <td>0</td>\n",
       "      <td>0</td>\n",
       "    </tr>\n",
       "    <tr>\n",
       "      <th>2</th>\n",
       "      <td>5.0</td>\n",
       "      <td>0</td>\n",
       "      <td>0</td>\n",
       "      <td>0</td>\n",
       "      <td>3</td>\n",
       "      <td>0</td>\n",
       "      <td>86</td>\n",
       "      <td>5</td>\n",
       "    </tr>\n",
       "    <tr>\n",
       "      <th>3</th>\n",
       "      <td>6.0</td>\n",
       "      <td>0</td>\n",
       "      <td>0</td>\n",
       "      <td>0</td>\n",
       "      <td>0</td>\n",
       "      <td>0</td>\n",
       "      <td>0</td>\n",
       "      <td>75</td>\n",
       "    </tr>\n",
       "    <tr>\n",
       "      <th>4</th>\n",
       "      <td>4.0</td>\n",
       "      <td>2</td>\n",
       "      <td>0</td>\n",
       "      <td>0</td>\n",
       "      <td>4</td>\n",
       "      <td>64</td>\n",
       "      <td>1</td>\n",
       "      <td>0</td>\n",
       "    </tr>\n",
       "    <tr>\n",
       "      <th>5</th>\n",
       "      <td>2.0</td>\n",
       "      <td>0</td>\n",
       "      <td>1</td>\n",
       "      <td>74</td>\n",
       "      <td>0</td>\n",
       "      <td>1</td>\n",
       "      <td>0</td>\n",
       "      <td>0</td>\n",
       "    </tr>\n",
       "    <tr>\n",
       "      <th>6</th>\n",
       "      <td>3.0</td>\n",
       "      <td>1</td>\n",
       "      <td>0</td>\n",
       "      <td>1</td>\n",
       "      <td>68</td>\n",
       "      <td>3</td>\n",
       "      <td>6</td>\n",
       "      <td>0</td>\n",
       "    </tr>\n",
       "  </tbody>\n",
       "</table>\n",
       "</div>"
      ]
     },
     "metadata": {
      "application/vnd.databricks.v1+output": {
       "addedWidgets": {},
       "arguments": {},
       "data": "<div>\n<style scoped>\n    .dataframe tbody tr th:only-of-type {\n        vertical-align: middle;\n    }\n\n    .dataframe tbody tr th {\n        vertical-align: top;\n    }\n\n    .dataframe thead th {\n        text-align: right;\n    }\n</style>\n<table border=\"1\" class=\"dataframe\">\n  <thead>\n    <tr style=\"text-align: right;\">\n      <th></th>\n      <th>prediction_NObeyesdad_idx</th>\n      <th>0.0</th>\n      <th>1.0</th>\n      <th>2.0</th>\n      <th>3.0</th>\n      <th>4.0</th>\n      <th>5.0</th>\n      <th>6.0</th>\n    </tr>\n  </thead>\n  <tbody>\n    <tr>\n      <th>0</th>\n      <td>1.0</td>\n      <td>0</td>\n      <td>83</td>\n      <td>1</td>\n      <td>0</td>\n      <td>0</td>\n      <td>0</td>\n      <td>0</td>\n    </tr>\n    <tr>\n      <th>1</th>\n      <td>0.0</td>\n      <td>96</td>\n      <td>0</td>\n      <td>0</td>\n      <td>0</td>\n      <td>2</td>\n      <td>0</td>\n      <td>0</td>\n    </tr>\n    <tr>\n      <th>2</th>\n      <td>5.0</td>\n      <td>0</td>\n      <td>0</td>\n      <td>0</td>\n      <td>3</td>\n      <td>0</td>\n      <td>86</td>\n      <td>5</td>\n    </tr>\n    <tr>\n      <th>3</th>\n      <td>6.0</td>\n      <td>0</td>\n      <td>0</td>\n      <td>0</td>\n      <td>0</td>\n      <td>0</td>\n      <td>0</td>\n      <td>75</td>\n    </tr>\n    <tr>\n      <th>4</th>\n      <td>4.0</td>\n      <td>2</td>\n      <td>0</td>\n      <td>0</td>\n      <td>4</td>\n      <td>64</td>\n      <td>1</td>\n      <td>0</td>\n    </tr>\n    <tr>\n      <th>5</th>\n      <td>2.0</td>\n      <td>0</td>\n      <td>1</td>\n      <td>74</td>\n      <td>0</td>\n      <td>1</td>\n      <td>0</td>\n      <td>0</td>\n    </tr>\n    <tr>\n      <th>6</th>\n      <td>3.0</td>\n      <td>1</td>\n      <td>0</td>\n      <td>1</td>\n      <td>68</td>\n      <td>3</td>\n      <td>6</td>\n      <td>0</td>\n    </tr>\n  </tbody>\n</table>\n</div>",
       "datasetInfos": [],
       "metadata": {},
       "removedWidgets": [],
       "textData": null,
       "type": "htmlSandbox"
      }
     },
     "output_type": "display_data"
    }
   ],
   "source": [
    "# Confusion Matrix\n",
    "cm_dt_result = predictions.crosstab(\"prediction\", \"NObeyesdad_idx\")\n",
    "cm_dt_result = cm_dt_result.toPandas()\n",
    "cm_dt_result"
   ]
  }
 ],
 "metadata": {
  "application/vnd.databricks.v1+notebook": {
   "dashboards": [],
   "language": "python",
   "notebookMetadata": {
    "pythonIndentUnit": 4
   },
   "notebookName": "Obesity Classification using PySpark",
   "widgets": {}
  }
 },
 "nbformat": 4,
 "nbformat_minor": 0
}
